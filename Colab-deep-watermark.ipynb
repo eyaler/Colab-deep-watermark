{
  "nbformat": 4,
  "nbformat_minor": 0,
  "metadata": {
    "colab": {
      "name": "Colab-deep-watermark.ipynb",
      "private_outputs": true,
      "provenance": [],
      "collapsed_sections": []
    },
    "kernelspec": {
      "name": "python3",
      "display_name": "Python 3"
    },
    "accelerator": "GPU"
  },
  "cells": [
    {
      "cell_type": "markdown",
      "metadata": {
        "id": "bdUq5hAtjSuN"
      },
      "source": [
        "# Colab-deep-watermark\r\n",
        "\r\n",
        "Original repo: [vinthony/deep-blind-watermark-removal/](https://github.com/vinthony/deep-blind-watermark-removal/)\r\n",
        "\r\n",
        "Original colab: [here](https://colab.research.google.com/drive/1pYY7byBjM-7aFIWk8HcF9nK_s6pqGwww?usp=sharing)\r\n",
        "\r\n",
        "My fork: [styler00dollar/Colab-deep-watermark](https://github.com/styler00dollar/Colab-deep-watermark)\r\n",
        "\r\n",
        "A more userfriendly version of the official colab."
      ]
    },
    {
      "cell_type": "code",
      "metadata": {
        "id": "74agM_f_jMUz"
      },
      "source": [
        "!nvidia-smi"
      ],
      "execution_count": null,
      "outputs": []
    },
    {
      "cell_type": "code",
      "metadata": {
        "id": "r73ZJv4bpTVD",
        "cellView": "form"
      },
      "source": [
        "#@title install\n",
        "# download the necessary componments\n",
        "! rm -rf *\n",
        "! git clone https://github.com/vinthony/deep-blind-watermark-removal.git # get code from github\n",
        "! gdown https://drive.google.com/uc?id=1KpSJ6385CHN6WlAINqB3CYrJdleQTJBc # get pretrained model\n",
        "#! gdown https://drive.google.com/uc?id=18HaWfYYZCD34VttSjd2at8b9BKdhgVgU && unzip -q val.zip # get validation dataset (2.31G) of 27kpng\n",
        "#! gdown https://drive.google.com/uc?id=1it5oQDRqRzBVieX6jKNmOxj1992f63yM && unzip -q natural.zip # get natural images (0.4G) of 27kpng\n",
        "\n",
        "# rename natural images\n",
        "from os import listdir\n",
        "from os.path import isfile, join\n",
        "import shutil\n",
        "#filenames = [ shutil.copy(join('./natural', f), join('./natural', f).split('-')[0]+'.jpg') for f in listdir('./natural') if isfile(join('./natural', f)) ]"
      ],
      "execution_count": null,
      "outputs": []
    },
    {
      "cell_type": "markdown",
      "metadata": {
        "id": "4C_nfkSqifQj"
      },
      "source": [
        "Input ```/content/image.jpg```. Run the following two cells if you change the image."
      ]
    },
    {
      "cell_type": "code",
      "metadata": {
        "cellView": "form",
        "id": "WvOyKxiqffGu"
      },
      "source": [
        "#@title remove folders and copy file\r\n",
        "!sudo rm -rf /content/val_images/image/\r\n",
        "!mkdir /content/val_images/image\r\n",
        "!sudo rm -rf /content/val_images/mask\r\n",
        "!mkdir /content/val_images/mask\r\n",
        "!sudo rm -rf /content/val_images/wm\r\n",
        "!mkdir /content/val_images/wm\r\n",
        "!sudo rm -rf /content/natural\r\n",
        "!mkdir /content/natural\r\n",
        "\r\n",
        "!sudo rm -rf \"/content/natural/\"\r\n",
        "!mkdir \"/content/natural/\"\r\n",
        "!sudo rm -rf \"/content/val_images/\"\r\n",
        "!mkdir \"/content/val_images/\"\r\n",
        "!sudo rm -rf \"/content/val_images/image/\"\r\n",
        "!mkdir \"/content/val_images/image/\"\r\n",
        "!sudo rm -rf \"/content/val_images/mask/\"\r\n",
        "!mkdir \"/content/val_images/mask/\"\r\n",
        "!sudo rm -rf \"/content/val_images/wm/\"\r\n",
        "!mkdir \"/content/val_images/wm/\"\r\n",
        "\r\n",
        "!cp \"/content/image.jpg\" \"/content/natural/image.jpg.jpg\"\r\n",
        "!cp \"/content/image.jpg\" \"/content/val_images/image/image.jpg\"\r\n",
        "!cp \"/content/image.jpg\" \"/content/val_images/mask/image.jpg\"\r\n",
        "!cp \"/content/image.jpg\" \"/content/val_images/wm/image.jpg\""
      ],
      "execution_count": null,
      "outputs": []
    },
    {
      "cell_type": "code",
      "metadata": {
        "id": "-iYvIp3kpJpq",
        "cellView": "form"
      },
      "source": [
        "#@title apply\n",
        "import os, sys, torch,random\n",
        "import numpy as np\n",
        "from matplotlib import pyplot as plt\n",
        "from matplotlib import cm\n",
        "\n",
        "sys.path.append('deep-blind-watermark-removal')\n",
        "sys.path.insert(0,'deep-blind-watermark-removal')\n",
        "\n",
        "from scripts.utils.imutils import im_to_numpy\n",
        "import scripts.models as models\n",
        "import scripts.datasets as datasets\n",
        "%matplotlib inline\n",
        "from PIL import Image, ImageChops\n",
        "\n",
        "def get_jet():\n",
        "    colormap_int = np.zeros((256, 3), np.uint8)\n",
        " \n",
        "    for i in range(0, 256, 1):\n",
        "        colormap_int[i, 0] = np.int_(np.round(cm.jet(i)[0] * 255.0))\n",
        "        colormap_int[i, 1] = np.int_(np.round(cm.jet(i)[1] * 255.0))\n",
        "        colormap_int[i, 2] = np.int_(np.round(cm.jet(i)[2] * 255.0))\n",
        "\n",
        "    return colormap_int\n",
        "\n",
        "def clamp(num, min_value, max_value):\n",
        "    return max(min(num, max_value), min_value)\n",
        "\n",
        "def gray2color(gray_array, color_map):\n",
        "    \n",
        "    rows, cols = gray_array.shape\n",
        "    color_array = np.zeros((rows, cols, 3), np.uint8)\n",
        " \n",
        "    for i in range(0, rows):\n",
        "        for j in range(0, cols):\n",
        "#             log(256,2) = 8 , log(1,2) = 0 * 8\n",
        "            color_array[i, j] = color_map[clamp(int(abs(gray_array[i, j])*10),0,255)]\n",
        "    \n",
        "    return color_array\n",
        "\n",
        "class objectview(object):\n",
        "    def __init__(self, *args, **kwargs):\n",
        "        d = dict(*args, **kwargs)\n",
        "        self.__dict__ = d\n",
        "\n",
        "jet_map = get_jet()\n",
        "\n",
        "resume_path = '27kpng_model_best.pth.tar' # path of pretrained model\n",
        "samples = [320,1364,1868] #random.sample(range(4000), 1) # show random sample \n",
        "\n",
        "data_config  = objectview({'input_size':256,\n",
        "                            'limited_dataset':0,\n",
        "                            'normalized_input':False,\n",
        "                            'data_augumentation':False,\n",
        "                            'base_dir':'.',\n",
        "                            'data':'_images'})\n",
        "\n",
        "val_loader = torch.utils.data.DataLoader(datasets.COCO('val',config=data_config))\n",
        "\n",
        "print('input          | target              | coarser            | final')\n",
        "print('----------------------------------------------------------------------------')\n",
        "print('predicted mask | predicted watermark | coarser difference | final difference')\n",
        "\n",
        "with torch.no_grad():\n",
        "\n",
        "      model = models.__dict__['vvv4n']().cuda()\n",
        "      model.load_state_dict(torch.load(resume_path)['state_dict'])\n",
        "      model.eval()\n",
        "      \n",
        "      for i, batches in enumerate(val_loader):\n",
        "          \n",
        "          plt.figure(figsize=(48,12))\n",
        "\n",
        "          im,mask,target = batches['image'].cuda(),batches['mask'].cuda(),batches['target'].cuda()\n",
        "              \n",
        "          imoutput,immask,imwatermark = model(im)\n",
        "        \n",
        "          imcoarser,imrefine,imwatermark = imoutput[1]*immask + im*(1-immask),imoutput[0]*immask + im*(1-immask),imwatermark*immask\n",
        "\n",
        "          ims1 = im_to_numpy(torch.clamp(torch.cat([im,target,imcoarser,imrefine],dim=3)[0]*255,min=0.0,max=255.0)).astype(np.uint8)\n",
        "          \n",
        "          imcoarser, imrefine, target  = im_to_numpy((imcoarser[0]*255)).astype(np.uint8), im_to_numpy((imrefine[0]*255)).astype(np.uint8), im_to_numpy((target[0]*255)).astype(np.uint8)\n",
        "          immask, imwatermark = im_to_numpy((immask.repeat(1,3,1,1)[0]*255)).astype(np.uint8),im_to_numpy((imwatermark[0]*255)).astype(np.uint8)\n",
        "\n",
        "          coarsenp = gray2color(np.array(ImageChops.difference(Image.fromarray(imcoarser),Image.fromarray(target)).convert('L')),jet_map)\n",
        "          finenp = gray2color(np.array(ImageChops.difference(Image.fromarray(imrefine),Image.fromarray(target)).convert('L')),jet_map)\n",
        "          \n",
        "          imfinal = np.concatenate([ims1,np.concatenate([immask,imwatermark,coarsenp,finenp],axis=1)],axis=0)\n",
        "\n",
        "          plt.imshow(imfinal,vmin=0.0,vmax=255.0)\n"
      ],
      "execution_count": null,
      "outputs": []
    }
  ]
}
